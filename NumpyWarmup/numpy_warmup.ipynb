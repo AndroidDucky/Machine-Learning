{
  "cells": [
    {
      "cell_type": "markdown",
      "id": "1d34e970-3e53-48ab-a8a4-bb046ebd87d1",
      "metadata": {
        "id": "1d34e970-3e53-48ab-a8a4-bb046ebd87d1"
      },
      "source": [
        "# Jared Adams 00865234"
      ]
    },
    {
      "cell_type": "markdown",
      "id": "ad147095-7e1d-48d7-b436-0a22a1f88dc3",
      "metadata": {
        "id": "ad147095-7e1d-48d7-b436-0a22a1f88dc3"
      },
      "source": [
        "## You are allowed and encouraged to search and get help from any resource, but write down the code by your own hands. "
      ]
    },
    {
      "cell_type": "code",
      "execution_count": 2,
      "id": "07521151-935b-4f34-a4f5-e7d0a5b17a1d",
      "metadata": {
        "id": "07521151-935b-4f34-a4f5-e7d0a5b17a1d"
      },
      "outputs": [],
      "source": [
        "import numpy as np"
      ]
    },
    {
      "cell_type": "markdown",
      "id": "53c14f19-9545-4ac2-bfb3-e4bb6ede457b",
      "metadata": {
        "id": "53c14f19-9545-4ac2-bfb3-e4bb6ede457b"
      },
      "source": [
        "### Your work: \n",
        "\n",
        "Create a new cell right below this cell. In the new cell, write one or a few statements that create and print a $3 \\times 4$ (ie., 3 rows by 4 columns)  ndarray of random numbers from the range $[0,1)$. The result should be something similar to the following (numbers could be different): \n",
        "\n",
        "[[0.21559175 0.71091185 0.78264013 0.0816029 ]\n",
        "\n",
        " [0.86528926 0.43816422 0.9406306  0.54750664]\n",
        "\n",
        "[0.794279   0.48067576 0.97565906 0.72432521]]"
      ]
    },
    {
      "cell_type": "code",
      "source": [
        "newA = np.array([[np.random.random(1)[0] for i in range(4)] for i in range(3)])\n",
        "print(newA)"
      ],
      "metadata": {
        "colab": {
          "base_uri": "https://localhost:8080/"
        },
        "id": "sDFFUjRRjoOi",
        "outputId": "15b6ba24-9bde-4464-d6a1-8c156e9b5a7b"
      },
      "id": "sDFFUjRRjoOi",
      "execution_count": 34,
      "outputs": [
        {
          "output_type": "stream",
          "name": "stdout",
          "text": [
            "[[0.84915237 0.02139142 0.73280251 0.04017641]\n",
            " [0.66873862 0.39775511 0.26407101 0.27108524]\n",
            " [0.19969016 0.42265417 0.38325703 0.6503135 ]]\n"
          ]
        }
      ]
    },
    {
      "cell_type": "code",
      "execution_count": 57,
      "id": "526f8512-9d2c-46db-bfef-aaf310060a65",
      "metadata": {
        "colab": {
          "base_uri": "https://localhost:8080/"
        },
        "id": "526f8512-9d2c-46db-bfef-aaf310060a65",
        "outputId": "894c3da6-18c8-4dd4-ef20-e2c4741da057"
      },
      "outputs": [
        {
          "output_type": "stream",
          "name": "stdout",
          "text": [
            "[[1 2 3]\n",
            " [4 5 6]]\n"
          ]
        }
      ],
      "source": [
        "a = np.array([[1,2,3],[4,5,6]])\n",
        "print(a)"
      ]
    },
    {
      "cell_type": "markdown",
      "id": "ca38bbad-84b5-46cc-80f7-d865ea12de28",
      "metadata": {
        "id": "ca38bbad-84b5-46cc-80f7-d865ea12de28"
      },
      "source": [
        "### Your work:\n",
        "Creat a new cell right below this cell. In the new cell, write one or a few statements that print the transpose of matrix $a$ defined above. The print should be looking like this: \n",
        "\n",
        "[[1 4]\n",
        "\n",
        " [2 5]\n",
        "\n",
        "[3 6]]"
      ]
    },
    {
      "cell_type": "code",
      "source": [
        "print(np.array(a).transpose())"
      ],
      "metadata": {
        "colab": {
          "base_uri": "https://localhost:8080/"
        },
        "id": "1Wx-Fb7oldeZ",
        "outputId": "6a2e7371-c713-4f7f-e340-c76a1bf6f834"
      },
      "id": "1Wx-Fb7oldeZ",
      "execution_count": 52,
      "outputs": [
        {
          "output_type": "stream",
          "name": "stdout",
          "text": [
            "[[1 4]\n",
            " [2 5]\n",
            " [3 6]]\n"
          ]
        }
      ]
    },
    {
      "cell_type": "code",
      "execution_count": 79,
      "id": "8f9bbb26-2e51-402a-b6e5-11459e746cc5",
      "metadata": {
        "colab": {
          "base_uri": "https://localhost:8080/"
        },
        "id": "8f9bbb26-2e51-402a-b6e5-11459e746cc5",
        "outputId": "268af276-fe60-4be1-c352-e8cbeba56a09"
      },
      "outputs": [
        {
          "output_type": "stream",
          "name": "stdout",
          "text": [
            "[[ 1  2  3  4]\n",
            " [ 5  6  7  8]\n",
            " [ 9 10 11 12]]\n"
          ]
        }
      ],
      "source": [
        "b = np.array([[1,2,3,4],[5,6,7,8],[9,10,11,12]])\n",
        "print(b)"
      ]
    },
    {
      "cell_type": "markdown",
      "id": "7302ed9f-60c0-439d-8dd6-b0d0f440800d",
      "metadata": {
        "id": "7302ed9f-60c0-439d-8dd6-b0d0f440800d"
      },
      "source": [
        "### Your work:\n",
        "Creat a new cell right below this cell. In the new cell, write one or a few statements that print the multiplication of matrix a and matrix b that are definded above. The print should be looking like this: \n",
        "\n",
        "[[ 38  44  50  56]\n",
        "\n",
        " [ 83  98 113 128]]\n"
      ]
    },
    {
      "cell_type": "code",
      "execution_count": 32,
      "id": "ac4d0fca-20a9-4345-87d2-79ff8b5b8175",
      "metadata": {
        "colab": {
          "base_uri": "https://localhost:8080/"
        },
        "id": "ac4d0fca-20a9-4345-87d2-79ff8b5b8175",
        "outputId": "7a7e5813-1f1e-4617-ac76-2256a1ecb667"
      },
      "outputs": [
        {
          "output_type": "stream",
          "name": "stdout",
          "text": [
            "[[10 20 30]\n",
            " [40 50 60]]\n"
          ]
        }
      ],
      "source": [
        "c = np.array([[10,20,30],[40,50,60]])\n",
        "print(c)"
      ]
    },
    {
      "cell_type": "code",
      "source": [
        "multiMatrix = np.dot(a,b)\n",
        "print(multiMatrix)"
      ],
      "metadata": {
        "colab": {
          "base_uri": "https://localhost:8080/"
        },
        "id": "-tn1tQl8mahB",
        "outputId": "7624c92e-5859-431d-d0f3-dfb905c69695"
      },
      "id": "-tn1tQl8mahB",
      "execution_count": 60,
      "outputs": [
        {
          "output_type": "stream",
          "name": "stdout",
          "text": [
            "[[ 38  44  50  56]\n",
            " [ 83  98 113 128]]\n"
          ]
        }
      ]
    },
    {
      "cell_type": "markdown",
      "id": "72253551-161c-4280-94ef-a3cf917f03ac",
      "metadata": {
        "id": "72253551-161c-4280-94ef-a3cf917f03ac"
      },
      "source": [
        "### Your work:\n",
        "Creat a new cell right below this cell. In the new cell, write one or a few statements that print the element-wise (also called component-wise) multiplication of matrix a and matrix c that definded above. The print should be looking like this: \n",
        "\n",
        "[[ 10  40  90]\n",
        "\n",
        " [160 250 360]]"
      ]
    },
    {
      "cell_type": "code",
      "source": [
        "print(np.multiply(a, c))"
      ],
      "metadata": {
        "colab": {
          "base_uri": "https://localhost:8080/"
        },
        "id": "rzuOA9CBm5o5",
        "outputId": "d6f039be-5e47-4931-9ea1-c02a405e003f"
      },
      "id": "rzuOA9CBm5o5",
      "execution_count": 55,
      "outputs": [
        {
          "output_type": "stream",
          "name": "stdout",
          "text": [
            "[[ 10  40  90]\n",
            " [160 250 360]]\n"
          ]
        }
      ]
    },
    {
      "cell_type": "markdown",
      "id": "c7c77d6b-7e6d-4643-8217-a5ba73a58e7c",
      "metadata": {
        "id": "c7c77d6b-7e6d-4643-8217-a5ba73a58e7c"
      },
      "source": [
        "### Your work:\n",
        "\n",
        "Creat a new cell right below this cell. In the new cell, write one or a few statements that add a new column to matrix b (the newly added column becomes the 0th column), and save the resuling new matrix to d (without changing b), then print d. The print should be looking like this: \n",
        "\n",
        "[[ 1  1  2  3  4]\n",
        "\n",
        " [ 1  5  6  7  8]\n",
        "\n",
        "[ 1  9 10 11 12]]\n",
        "\n",
        "Hint: Use np.insert() method. Search and read its document. "
      ]
    },
    {
      "cell_type": "code",
      "execution_count": 81,
      "id": "ae3db0d9-52fe-4026-af9e-8cd1b5e50f42",
      "metadata": {
        "colab": {
          "base_uri": "https://localhost:8080/"
        },
        "id": "ae3db0d9-52fe-4026-af9e-8cd1b5e50f42",
        "outputId": "7b83361a-cea0-4bf2-9fcf-226f5ccac09c"
      },
      "outputs": [
        {
          "output_type": "stream",
          "name": "stdout",
          "text": [
            "[1 2 3]\n"
          ]
        }
      ],
      "source": [
        "e = np.array([1,2,3])\n",
        "print(e)"
      ]
    },
    {
      "cell_type": "code",
      "source": [
        "d = np.insert(b, 0, np.array((1, 1, 1)),1)\n",
        "print(d)"
      ],
      "metadata": {
        "colab": {
          "base_uri": "https://localhost:8080/"
        },
        "id": "wn44aI9QqYV9",
        "outputId": "a0e77b0d-c38a-45dd-ebb9-b14d279f702d"
      },
      "id": "wn44aI9QqYV9",
      "execution_count": 80,
      "outputs": [
        {
          "output_type": "stream",
          "name": "stdout",
          "text": [
            "[[ 1  1  2  3  4]\n",
            " [ 1  5  6  7  8]\n",
            " [ 1  9 10 11 12]]\n"
          ]
        }
      ]
    },
    {
      "cell_type": "markdown",
      "id": "b36ef756-d5af-46ea-bba1-ad8f56994aa0",
      "metadata": {
        "id": "b36ef756-d5af-46ea-bba1-ad8f56994aa0"
      },
      "source": [
        "### Your work:\n",
        "\n",
        "Creat a new cell right below this cell. In the new cell, write one or a few statements that prints the inverse of e. The result should be the following: \n",
        "\n",
        "    [[1]\n",
        "\n",
        "     [2]\n",
        "\n",
        "    [3]]\n",
        "\n",
        "Hint: Study the reshape function. You need to increase the ndim of the ndarray from 1 to 2, then the transpose function can work. "
      ]
    },
    {
      "cell_type": "code",
      "source": [
        "print(e.reshape(1, 3).transpose())"
      ],
      "metadata": {
        "colab": {
          "base_uri": "https://localhost:8080/"
        },
        "id": "OY1tQgrssLf8",
        "outputId": "e3e68e1c-fd50-4ed1-890a-d12898bf17e5"
      },
      "id": "OY1tQgrssLf8",
      "execution_count": 96,
      "outputs": [
        {
          "output_type": "stream",
          "name": "stdout",
          "text": [
            "[[1]\n",
            " [2]\n",
            " [3]]\n"
          ]
        }
      ]
    }
  ],
  "metadata": {
    "kernelspec": {
      "display_name": "Python 3",
      "language": "python",
      "name": "python3"
    },
    "language_info": {
      "codemirror_mode": {
        "name": "ipython",
        "version": 3
      },
      "file_extension": ".py",
      "mimetype": "text/x-python",
      "name": "python",
      "nbconvert_exporter": "python",
      "pygments_lexer": "ipython3",
      "version": "3.8.8"
    },
    "colab": {
      "provenance": [],
      "collapsed_sections": []
    }
  },
  "nbformat": 4,
  "nbformat_minor": 5
}